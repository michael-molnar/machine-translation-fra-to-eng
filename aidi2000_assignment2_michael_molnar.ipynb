{
 "cells": [
  {
   "cell_type": "markdown",
   "id": "flying-italy",
   "metadata": {},
   "source": [
    "## AIDI 2000 - Applied Machine Learning \n",
    "### Assignment 2 - Machine Translation\n",
    "\n",
    "#### Michael Molnar (100806823)"
   ]
  },
  {
   "cell_type": "markdown",
   "id": "liable-louisiana",
   "metadata": {},
   "source": [
    "For this assignment I will build an Encoder-Decoder deep learning model to perform machine translation from French to English.\n",
    "\n",
    "Steps:\n",
    "- Load and examine the dataset\n",
    "- Perform pre-processing \n",
    "- Build and train the model\n",
    "- Evaluate the model on the testing dataset \n",
    "- Examine the model's predictions on training and testing data\n",
    "- Save the model and tokenizers\n",
    "- Use the model to make predictions on new French sentences"
   ]
  },
  {
   "cell_type": "markdown",
   "id": "lightweight-conversation",
   "metadata": {},
   "source": [
    "#### Importing Necessary Libraries "
   ]
  },
  {
   "cell_type": "code",
   "execution_count": 1,
   "id": "industrial-answer",
   "metadata": {},
   "outputs": [],
   "source": [
    "import string\n",
    "import re\n",
    "import pandas as pd\n",
    "import numpy as np\n",
    "import matplotlib.pyplot as plt\n",
    "import pickle\n",
    "import random\n",
    "\n",
    "from sklearn.model_selection import train_test_split\n",
    "\n",
    "from tensorflow.keras.preprocessing.text import Tokenizer\n",
    "from tensorflow.keras.preprocessing.sequence import pad_sequences\n",
    "from tensorflow.keras.utils import to_categorical\n",
    "\n",
    "from tensorflow.keras.models import Sequential\n",
    "from tensorflow.keras.layers import Embedding\n",
    "from tensorflow.keras.layers import LSTM\n",
    "from tensorflow.keras.layers import Dense\n",
    "from tensorflow.keras.layers import RepeatVector\n",
    "from tensorflow.keras.layers import TimeDistributed\n",
    "\n",
    "from tensorflow.keras.models import load_model"
   ]
  },
  {
   "cell_type": "markdown",
   "id": "opposed-supervision",
   "metadata": {},
   "source": [
    "#### Loading and Examining the Dataset"
   ]
  },
  {
   "cell_type": "markdown",
   "id": "moved-operator",
   "metadata": {},
   "source": [
    "I will be working with the English - French dataset provided on the page, \"Tab-delimited Bilingual Sentence Pairs\", frm the Tatoeba Project.  The dataset is available for download at http://www.manythings.org/anki/."
   ]
  },
  {
   "cell_type": "code",
   "execution_count": 3,
   "id": "prime-oracle",
   "metadata": {},
   "outputs": [],
   "source": [
    "# Load the dataset into memory\n",
    "file = open('Data/fra.txt', mode='rt', encoding='utf-8')\n",
    "text = file.read()\n",
    "file.close()"
   ]
  },
  {
   "cell_type": "markdown",
   "id": "maritime-elements",
   "metadata": {},
   "source": [
    "From the notes on the website, the data is in the form: \n",
    "\n",
    "English + TAB + The Other Language + TAB + Attribution\n",
    "\n",
    "I will keep only the first two elments - the English and French phrases."
   ]
  },
  {
   "cell_type": "code",
   "execution_count": 4,
   "id": "guided-garlic",
   "metadata": {},
   "outputs": [],
   "source": [
    "# Split the data by line break \n",
    "lines = text.strip().split('\\n')\n",
    "# Split each line by tabs \n",
    "rows = [line.split('\\t')[:2] for line in lines]"
   ]
  },
  {
   "cell_type": "code",
   "execution_count": 5,
   "id": "related-toilet",
   "metadata": {},
   "outputs": [
    {
     "name": "stdout",
     "output_type": "stream",
     "text": [
      "[['Go.', 'Va !'], ['Go.', 'Marche.'], ['Go.', 'Bouge !']]\n"
     ]
    }
   ],
   "source": [
    "# View a couple rows\n",
    "print(rows[:3])"
   ]
  },
  {
   "cell_type": "code",
   "execution_count": 6,
   "id": "fixed-south",
   "metadata": {},
   "outputs": [
    {
     "name": "stdout",
     "output_type": "stream",
     "text": [
      "[\"If someone who doesn't know your background says that you sound like a native speaker, it means they probably noticed something about your speaking that made them realize you weren't a native speaker. In other words, you don't really sound like a native speaker.\", \"Si quelqu'un qui ne connaît pas vos antécédents dit que vous parlez comme un locuteur natif, cela veut dire qu'il a probablement remarqué quelque chose à propos de votre élocution qui lui a fait prendre conscience que vous n'êtes pas un locuteur natif. En d'autres termes, vous ne parlez pas vraiment comme un locuteur natif.\"]\n"
     ]
    }
   ],
   "source": [
    "# View the last row\n",
    "print(rows[-1])"
   ]
  },
  {
   "cell_type": "markdown",
   "id": "copyrighted-fisher",
   "metadata": {},
   "source": [
    "I can see that the first entry in each row is the English word or phrase, and the second entry is the French translation.  I can see the presence of capital letters and punctuations.  These, and other non-alphabetic characters, will be removed as part of the data pre-processing stage.  The phrases range from a single word to multiple sentences."
   ]
  },
  {
   "cell_type": "code",
   "execution_count": 7,
   "id": "front-jesus",
   "metadata": {},
   "outputs": [
    {
     "data": {
      "text/plain": [
       "185583"
      ]
     },
     "execution_count": 7,
     "metadata": {},
     "output_type": "execute_result"
    }
   ],
   "source": [
    "# Check the number of rows \n",
    "len(rows)"
   ]
  },
  {
   "cell_type": "markdown",
   "id": "unknown-cooler",
   "metadata": {},
   "source": [
    "There are over 185,000 sequence pairs in this dataset.  As I progressed through the code, I ran into memory issues due to the size.  As such, I will select the first 50,000 rows and use these for this assignment.  The length of sequences increases as you get further into the dataset, so these will be mostly shorter sequences.  "
   ]
  },
  {
   "cell_type": "code",
   "execution_count": 8,
   "id": "embedded-mystery",
   "metadata": {},
   "outputs": [],
   "source": [
    "# Take only the first 50,000 rows\n",
    "rows = rows[:50000]"
   ]
  },
  {
   "cell_type": "markdown",
   "id": "accessible-stevens",
   "metadata": {},
   "source": [
    "#### Data Pre-Processing"
   ]
  },
  {
   "cell_type": "markdown",
   "id": "developmental-writer",
   "metadata": {},
   "source": [
    "In this section I will perform several operations to clean the text data.  First, I will split each sequence into tokens by splitting at white spaces.  Next, I will remove punctuations and non-alphabetic characters.  Finally, I will convert all text to lowercase. "
   ]
  },
  {
   "cell_type": "code",
   "execution_count": 9,
   "id": "patent-personal",
   "metadata": {},
   "outputs": [],
   "source": [
    "def clean_text(text):\n",
    "    # Split the text into tokens at white spaces\n",
    "    tokens = text.split()\n",
    "    # Use regex to filter for punctuation\n",
    "    no_punc = re.compile('[%s]'% re.escape(string.punctuation))\n",
    "    # Remove the punctuation\n",
    "    tokens = [no_punc.sub('', char) for char in tokens]\n",
    "    # Remove any tokens that are non-alphabetic \n",
    "    tokens = [word for word in tokens if word.isalpha()]\n",
    "    # Lowercase all text\n",
    "    tokens = [word.lower() for word in tokens]\n",
    "    return tokens"
   ]
  },
  {
   "cell_type": "markdown",
   "id": "developing-maker",
   "metadata": {},
   "source": [
    "I will here split the data into the French phrases and the English, cleaning the text of each as I do so."
   ]
  },
  {
   "cell_type": "code",
   "execution_count": 10,
   "id": "royal-heath",
   "metadata": {},
   "outputs": [],
   "source": [
    "french = []\n",
    "english = []\n",
    "for row in rows:\n",
    "    french.append(clean_text(row[1]))\n",
    "    english.append(clean_text(row[0]))"
   ]
  },
  {
   "cell_type": "markdown",
   "id": "considerable-vertical",
   "metadata": {},
   "source": [
    "Before moving further I will take a look at the data to see if any rows need to be removed."
   ]
  },
  {
   "cell_type": "code",
   "execution_count": 11,
   "id": "mexican-august",
   "metadata": {},
   "outputs": [],
   "source": [
    "# Create a DataFrame of the text\n",
    "df = pd.DataFrame()\n",
    "df['French'] = french\n",
    "df['English'] = english"
   ]
  },
  {
   "cell_type": "code",
   "execution_count": 12,
   "id": "earned-domain",
   "metadata": {},
   "outputs": [
    {
     "data": {
      "text/html": [
       "<div>\n",
       "<style scoped>\n",
       "    .dataframe tbody tr th:only-of-type {\n",
       "        vertical-align: middle;\n",
       "    }\n",
       "\n",
       "    .dataframe tbody tr th {\n",
       "        vertical-align: top;\n",
       "    }\n",
       "\n",
       "    .dataframe thead th {\n",
       "        text-align: right;\n",
       "    }\n",
       "</style>\n",
       "<table border=\"1\" class=\"dataframe\">\n",
       "  <thead>\n",
       "    <tr style=\"text-align: right;\">\n",
       "      <th></th>\n",
       "      <th>French</th>\n",
       "      <th>English</th>\n",
       "    </tr>\n",
       "  </thead>\n",
       "  <tbody>\n",
       "    <tr>\n",
       "      <th>0</th>\n",
       "      <td>[va]</td>\n",
       "      <td>[go]</td>\n",
       "    </tr>\n",
       "    <tr>\n",
       "      <th>1</th>\n",
       "      <td>[marche]</td>\n",
       "      <td>[go]</td>\n",
       "    </tr>\n",
       "    <tr>\n",
       "      <th>2</th>\n",
       "      <td>[bouge]</td>\n",
       "      <td>[go]</td>\n",
       "    </tr>\n",
       "    <tr>\n",
       "      <th>3</th>\n",
       "      <td>[salut]</td>\n",
       "      <td>[hi]</td>\n",
       "    </tr>\n",
       "    <tr>\n",
       "      <th>4</th>\n",
       "      <td>[salut]</td>\n",
       "      <td>[hi]</td>\n",
       "    </tr>\n",
       "    <tr>\n",
       "      <th>5</th>\n",
       "      <td>[cours]</td>\n",
       "      <td>[run]</td>\n",
       "    </tr>\n",
       "    <tr>\n",
       "      <th>6</th>\n",
       "      <td>[courez]</td>\n",
       "      <td>[run]</td>\n",
       "    </tr>\n",
       "    <tr>\n",
       "      <th>7</th>\n",
       "      <td>[prenez, vos, jambes, à, vos, cous]</td>\n",
       "      <td>[run]</td>\n",
       "    </tr>\n",
       "    <tr>\n",
       "      <th>8</th>\n",
       "      <td>[file]</td>\n",
       "      <td>[run]</td>\n",
       "    </tr>\n",
       "    <tr>\n",
       "      <th>9</th>\n",
       "      <td>[filez]</td>\n",
       "      <td>[run]</td>\n",
       "    </tr>\n",
       "  </tbody>\n",
       "</table>\n",
       "</div>"
      ],
      "text/plain": [
       "                                French English\n",
       "0                                 [va]    [go]\n",
       "1                             [marche]    [go]\n",
       "2                              [bouge]    [go]\n",
       "3                              [salut]    [hi]\n",
       "4                              [salut]    [hi]\n",
       "5                              [cours]   [run]\n",
       "6                             [courez]   [run]\n",
       "7  [prenez, vos, jambes, à, vos, cous]   [run]\n",
       "8                               [file]   [run]\n",
       "9                              [filez]   [run]"
      ]
     },
     "execution_count": 12,
     "metadata": {},
     "output_type": "execute_result"
    }
   ],
   "source": [
    "df.head(10)"
   ]
  },
  {
   "cell_type": "code",
   "execution_count": 13,
   "id": "efficient-auction",
   "metadata": {},
   "outputs": [
    {
     "data": {
      "text/html": [
       "<div>\n",
       "<style scoped>\n",
       "    .dataframe tbody tr th:only-of-type {\n",
       "        vertical-align: middle;\n",
       "    }\n",
       "\n",
       "    .dataframe tbody tr th {\n",
       "        vertical-align: top;\n",
       "    }\n",
       "\n",
       "    .dataframe thead th {\n",
       "        text-align: right;\n",
       "    }\n",
       "</style>\n",
       "<table border=\"1\" class=\"dataframe\">\n",
       "  <thead>\n",
       "    <tr style=\"text-align: right;\">\n",
       "      <th></th>\n",
       "      <th>French</th>\n",
       "      <th>English</th>\n",
       "      <th>French Length</th>\n",
       "      <th>English Length</th>\n",
       "    </tr>\n",
       "  </thead>\n",
       "  <tbody>\n",
       "    <tr>\n",
       "      <th>0</th>\n",
       "      <td>[va]</td>\n",
       "      <td>[go]</td>\n",
       "      <td>1</td>\n",
       "      <td>1</td>\n",
       "    </tr>\n",
       "    <tr>\n",
       "      <th>1</th>\n",
       "      <td>[marche]</td>\n",
       "      <td>[go]</td>\n",
       "      <td>1</td>\n",
       "      <td>1</td>\n",
       "    </tr>\n",
       "    <tr>\n",
       "      <th>2</th>\n",
       "      <td>[bouge]</td>\n",
       "      <td>[go]</td>\n",
       "      <td>1</td>\n",
       "      <td>1</td>\n",
       "    </tr>\n",
       "    <tr>\n",
       "      <th>3</th>\n",
       "      <td>[salut]</td>\n",
       "      <td>[hi]</td>\n",
       "      <td>1</td>\n",
       "      <td>1</td>\n",
       "    </tr>\n",
       "    <tr>\n",
       "      <th>4</th>\n",
       "      <td>[salut]</td>\n",
       "      <td>[hi]</td>\n",
       "      <td>1</td>\n",
       "      <td>1</td>\n",
       "    </tr>\n",
       "    <tr>\n",
       "      <th>5</th>\n",
       "      <td>[cours]</td>\n",
       "      <td>[run]</td>\n",
       "      <td>1</td>\n",
       "      <td>1</td>\n",
       "    </tr>\n",
       "    <tr>\n",
       "      <th>6</th>\n",
       "      <td>[courez]</td>\n",
       "      <td>[run]</td>\n",
       "      <td>1</td>\n",
       "      <td>1</td>\n",
       "    </tr>\n",
       "    <tr>\n",
       "      <th>7</th>\n",
       "      <td>[prenez, vos, jambes, à, vos, cous]</td>\n",
       "      <td>[run]</td>\n",
       "      <td>6</td>\n",
       "      <td>1</td>\n",
       "    </tr>\n",
       "    <tr>\n",
       "      <th>8</th>\n",
       "      <td>[file]</td>\n",
       "      <td>[run]</td>\n",
       "      <td>1</td>\n",
       "      <td>1</td>\n",
       "    </tr>\n",
       "    <tr>\n",
       "      <th>9</th>\n",
       "      <td>[filez]</td>\n",
       "      <td>[run]</td>\n",
       "      <td>1</td>\n",
       "      <td>1</td>\n",
       "    </tr>\n",
       "  </tbody>\n",
       "</table>\n",
       "</div>"
      ],
      "text/plain": [
       "                                French English  French Length  English Length\n",
       "0                                 [va]    [go]              1               1\n",
       "1                             [marche]    [go]              1               1\n",
       "2                              [bouge]    [go]              1               1\n",
       "3                              [salut]    [hi]              1               1\n",
       "4                              [salut]    [hi]              1               1\n",
       "5                              [cours]   [run]              1               1\n",
       "6                             [courez]   [run]              1               1\n",
       "7  [prenez, vos, jambes, à, vos, cous]   [run]              6               1\n",
       "8                               [file]   [run]              1               1\n",
       "9                              [filez]   [run]              1               1"
      ]
     },
     "execution_count": 13,
     "metadata": {},
     "output_type": "execute_result"
    }
   ],
   "source": [
    "# Check the lengths\n",
    "df['French Length'] = df['French'].apply(lambda x: len(x))\n",
    "df['English Length'] = df['English'].apply(lambda x: len(x))\n",
    "df.head(10)"
   ]
  },
  {
   "cell_type": "code",
   "execution_count": 14,
   "id": "arctic-blues",
   "metadata": {},
   "outputs": [
    {
     "name": "stdout",
     "output_type": "stream",
     "text": [
      "     French            English  French Length  English Length\n",
      "468      []        [get, away]              0               2\n",
      "6133     []  [am, i, approved]              0               3\n",
      "Empty DataFrame\n",
      "Columns: [French, English, French Length, English Length]\n",
      "Index: []\n"
     ]
    }
   ],
   "source": [
    "# Check for any missing rows\n",
    "empty_fr = df[df['French Length'] == 0]\n",
    "empty_eng = df[df['English Length'] == 0]\n",
    "\n",
    "print(empty_fr)\n",
    "print(empty_eng)"
   ]
  },
  {
   "cell_type": "code",
   "execution_count": 15,
   "id": "distant-alias",
   "metadata": {},
   "outputs": [],
   "source": [
    "# Drop rows with missing values\n",
    "df = df[df['French Length'] != 0]"
   ]
  },
  {
   "cell_type": "markdown",
   "id": "understood-romantic",
   "metadata": {},
   "source": [
    "Next, I will split the text into the inputs, X, and outputs, y."
   ]
  },
  {
   "cell_type": "code",
   "execution_count": 16,
   "id": "sound-armor",
   "metadata": {},
   "outputs": [],
   "source": [
    "X = df['French'].values\n",
    "y = df['English'].values"
   ]
  },
  {
   "cell_type": "markdown",
   "id": "incorrect-heath",
   "metadata": {},
   "source": [
    "#### Preparing French and English Tokenizers"
   ]
  },
  {
   "cell_type": "markdown",
   "id": "hundred-major",
   "metadata": {},
   "source": [
    "Next, I create two tokenizers - one for the English sequences and one for the French.  In this section I will save the vocabulary size (number of unique words) and the max sequence length for each of the two tokenizers."
   ]
  },
  {
   "cell_type": "code",
   "execution_count": 17,
   "id": "wanted-eclipse",
   "metadata": {},
   "outputs": [],
   "source": [
    "# Prepare the French tokenizer\n",
    "fra_tokenizer = Tokenizer()\n",
    "fra_tokenizer.fit_on_texts(X)"
   ]
  },
  {
   "cell_type": "code",
   "execution_count": 18,
   "id": "pointed-breed",
   "metadata": {},
   "outputs": [
    {
     "name": "stdout",
     "output_type": "stream",
     "text": [
      "French vocabulary size: 12582\n"
     ]
    }
   ],
   "source": [
    "# Check the size of French vocabulary\n",
    "fra_vocab_size = len(fra_tokenizer.word_index) + 1\n",
    "print('French vocabulary size:', fra_vocab_size)"
   ]
  },
  {
   "cell_type": "code",
   "execution_count": 19,
   "id": "enormous-military",
   "metadata": {},
   "outputs": [
    {
     "name": "stdout",
     "output_type": "stream",
     "text": [
      "French max length: 14\n"
     ]
    }
   ],
   "source": [
    "# Get the maximum length of a sequence\n",
    "fra_len = max(df['French Length'])\n",
    "print('French max length:', fra_len)"
   ]
  },
  {
   "cell_type": "code",
   "execution_count": 20,
   "id": "peripheral-tournament",
   "metadata": {},
   "outputs": [],
   "source": [
    "# Prepare the English tokenizer\n",
    "eng_tokenizer = Tokenizer()\n",
    "eng_tokenizer.fit_on_texts(y)"
   ]
  },
  {
   "cell_type": "code",
   "execution_count": 21,
   "id": "smoking-helen",
   "metadata": {},
   "outputs": [
    {
     "name": "stdout",
     "output_type": "stream",
     "text": [
      "English vocabulary size: 5986\n"
     ]
    }
   ],
   "source": [
    "# Check the size of the English vocabulary\n",
    "eng_vocab_size = len(eng_tokenizer.word_index) + 1\n",
    "print('English vocabulary size:', eng_vocab_size)"
   ]
  },
  {
   "cell_type": "code",
   "execution_count": 26,
   "id": "political-stockholm",
   "metadata": {},
   "outputs": [
    {
     "name": "stdout",
     "output_type": "stream",
     "text": [
      "English max length: 7\n"
     ]
    }
   ],
   "source": [
    "# Get the maximum length of a sequence\n",
    "eng_len = max(df['English Length'])\n",
    "print('English max length:', eng_len)"
   ]
  },
  {
   "cell_type": "markdown",
   "id": "breathing-pointer",
   "metadata": {},
   "source": [
    "Next, I want to split the data into training and testing sets.  Then I want to convert the tokens into sequences and then pad each to match the maximum lenght.  For the output data, I want to use one-hot encoding to make these categorical.  To do these processes I will use two functions."
   ]
  },
  {
   "cell_type": "markdown",
   "id": "laden-defendant",
   "metadata": {},
   "source": [
    "#### Splitting into Training and Testing Data"
   ]
  },
  {
   "cell_type": "code",
   "execution_count": 27,
   "id": "sticky-mixture",
   "metadata": {},
   "outputs": [],
   "source": [
    "X_train, X_test, y_train, y_test = train_test_split(X, y, test_size=0.20, random_state=42)"
   ]
  },
  {
   "cell_type": "code",
   "execution_count": 28,
   "id": "played-removal",
   "metadata": {},
   "outputs": [
    {
     "name": "stdout",
     "output_type": "stream",
     "text": [
      "Size of X-train (39998,)\n",
      "Size of y-train (39998,)\n",
      "Size of X-test (10000,)\n",
      "Size of y-test (10000,)\n"
     ]
    }
   ],
   "source": [
    "print('Size of X-train', X_train.shape)\n",
    "print('Size of y-train', y_train.shape)\n",
    "print('Size of X-test', X_test.shape)\n",
    "print('Size of y-test', y_test.shape)"
   ]
  },
  {
   "cell_type": "markdown",
   "id": "spiritual-scott",
   "metadata": {},
   "source": [
    "#### Encoding Sequences"
   ]
  },
  {
   "cell_type": "code",
   "execution_count": 29,
   "id": "legendary-lawsuit",
   "metadata": {},
   "outputs": [],
   "source": [
    "def encode_sequences(tokenizer, length, text_tokens):\n",
    "    \"\"\"\n",
    "    Here I will take the data that has been tokenized and convert the tokens\n",
    "    into integers, using the pre-fit tokenizer.  Then, I will pad the lengths \n",
    "    of each sequence to match the maximum length.\n",
    "    \"\"\"\n",
    "    # Encode sequences with integers\n",
    "    enc_seq = tokenizer.texts_to_sequences(text_tokens)\n",
    "    # Add 0's to the end of each to match the maximum length\n",
    "    enc_seq = pad_sequences(enc_seq, maxlen=length, padding='post')\n",
    "    return enc_seq"
   ]
  },
  {
   "cell_type": "code",
   "execution_count": 30,
   "id": "collectible-binary",
   "metadata": {},
   "outputs": [],
   "source": [
    "# Use this to enclode the X(French) and y(English) sequences\n",
    "X_train = encode_sequences(fra_tokenizer, fra_len, X_train)\n",
    "y_train = encode_sequences(eng_tokenizer, eng_len, y_train)\n",
    "\n",
    "X_test = encode_sequences(fra_tokenizer, fra_len, X_test)\n",
    "y_test = encode_sequences(eng_tokenizer, eng_len, y_test)"
   ]
  },
  {
   "cell_type": "code",
   "execution_count": 31,
   "id": "gross-render",
   "metadata": {},
   "outputs": [
    {
     "name": "stdout",
     "output_type": "stream",
     "text": [
      "Size of X-train (39998, 14)\n",
      "Size of y-train (39998, 7)\n",
      "Size of X-test (10000, 14)\n",
      "Size of y-test (10000, 7)\n"
     ]
    }
   ],
   "source": [
    "print('Size of X-train', X_train.shape)\n",
    "print('Size of y-train', y_train.shape)\n",
    "print('Size of X-test', X_test.shape)\n",
    "print('Size of y-test', y_test.shape)"
   ]
  },
  {
   "cell_type": "markdown",
   "id": "wanted-psychiatry",
   "metadata": {},
   "source": [
    "#### One-Hot Encoding Output Sequences"
   ]
  },
  {
   "cell_type": "code",
   "execution_count": 32,
   "id": "regional-feature",
   "metadata": {},
   "outputs": [],
   "source": [
    "def encode_output(sequences, vocab_size):\n",
    "    \"\"\"\n",
    "    One-hot encode the output (English sentences), using the to_categorical function\n",
    "    where the number of classes is equal to the English vocabulary size from the fit\n",
    "    tokenizer.  Then reshape as needed for use in the model.\n",
    "    \"\"\"\n",
    "    y_list = []\n",
    "    # Encode the sequences\n",
    "    for sequence in sequences:\n",
    "        one_hot = to_categorical(sequence, num_classes=vocab_size)\n",
    "        y_list.append(one_hot)\n",
    "    # Convert to numpy array\n",
    "    y = np.array(y_list)\n",
    "    # Reshape into three dimensions\n",
    "    y = y.reshape(sequences.shape[0], sequences.shape[1], vocab_size)\n",
    "    return y"
   ]
  },
  {
   "cell_type": "code",
   "execution_count": 33,
   "id": "respected-calcium",
   "metadata": {},
   "outputs": [],
   "source": [
    "# Use this function to encode the ouput sequences\n",
    "y_train = encode_output(y_train, eng_vocab_size)\n",
    "y_test = encode_output(y_test, eng_vocab_size)"
   ]
  },
  {
   "cell_type": "code",
   "execution_count": 34,
   "id": "catholic-blackjack",
   "metadata": {},
   "outputs": [
    {
     "name": "stdout",
     "output_type": "stream",
     "text": [
      "Size of y-train (39998, 7, 5986)\n",
      "Size of y-test (10000, 7, 5986)\n"
     ]
    }
   ],
   "source": [
    "print('Size of y-train', y_train.shape)\n",
    "print('Size of y-test', y_test.shape)"
   ]
  },
  {
   "cell_type": "markdown",
   "id": "dietary-crack",
   "metadata": {},
   "source": [
    "#### Building the Encoder-Decoder Architecture "
   ]
  },
  {
   "cell_type": "markdown",
   "id": "liked-crawford",
   "metadata": {},
   "source": [
    "I am now ready to build the model.  By limiting the size of the dataset I am working with, I have a sequence-to-sequence problem where both the input and output sequences are short.  As such I will make use of the Encoder-Decorder architecture, using the Long Short-Term Memory (LSTM) model.  There are many other options I could have tried here - including RNN, bidirectional models, and GRUs, as well as adding an Attention Mechanism.  For now I will proceed with this relatively simple model and evaluate how it performs on this task."
   ]
  },
  {
   "cell_type": "code",
   "execution_count": 31,
   "id": "endless-celebration",
   "metadata": {},
   "outputs": [],
   "source": [
    "def define_model(input_vocab_size, output_vocab_size, input_seq_len, output_seq_len, mem_units):\n",
    "    \"\"\"\n",
    "    Encoder-Decoder using LSTM model for a many-to-many sequence-to-sequence problem.\n",
    "    \"\"\"\n",
    "    model = Sequential()\n",
    "    model.add(Embedding(input_vocab_size, mem_units, input_length=input_seq_len))\n",
    "    model.add(LSTM(mem_units))\n",
    "    model.add(RepeatVector(output_seq_len))\n",
    "    model.add(LSTM(mem_units, return_sequences=True))\n",
    "    model.add(TimeDistributed(Dense(output_vocab_size, activation='softmax')))\n",
    "    return model"
   ]
  },
  {
   "cell_type": "code",
   "execution_count": 32,
   "id": "center-inspection",
   "metadata": {},
   "outputs": [],
   "source": [
    "# Define the model \n",
    "model = define_model(fra_vocab_size, eng_vocab_size, fra_len, eng_len, 256)\n",
    "# Compile the model\n",
    "# By one-hot-encoding the targets this is a classification - so I use the Adam\n",
    "# optimizer and Categorical-crossentropy as the loss function \n",
    "model.compile(optimizer='adam', loss='categorical_crossentropy', metrics=['accuracy'])"
   ]
  },
  {
   "cell_type": "code",
   "execution_count": 33,
   "id": "loved-bangkok",
   "metadata": {},
   "outputs": [
    {
     "name": "stdout",
     "output_type": "stream",
     "text": [
      "Model: \"sequential\"\n",
      "_________________________________________________________________\n",
      "Layer (type)                 Output Shape              Param #   \n",
      "=================================================================\n",
      "embedding (Embedding)        (None, 14, 256)           3220992   \n",
      "_________________________________________________________________\n",
      "lstm (LSTM)                  (None, 256)               525312    \n",
      "_________________________________________________________________\n",
      "repeat_vector (RepeatVector) (None, 7, 256)            0         \n",
      "_________________________________________________________________\n",
      "lstm_1 (LSTM)                (None, 7, 256)            525312    \n",
      "_________________________________________________________________\n",
      "time_distributed (TimeDistri (None, 7, 5986)           1538402   \n",
      "=================================================================\n",
      "Total params: 5,810,018\n",
      "Trainable params: 5,810,018\n",
      "Non-trainable params: 0\n",
      "_________________________________________________________________\n"
     ]
    }
   ],
   "source": [
    "# Print the model summary\n",
    "model.summary()"
   ]
  },
  {
   "cell_type": "markdown",
   "id": "suffering-sunset",
   "metadata": {},
   "source": [
    "#### Training the Model"
   ]
  },
  {
   "cell_type": "code",
   "execution_count": 34,
   "id": "fifteen-paris",
   "metadata": {},
   "outputs": [
    {
     "name": "stdout",
     "output_type": "stream",
     "text": [
      "Epoch 1/50\n",
      "625/625 [==============================] - 87s 139ms/step - loss: 3.5148 - accuracy: 0.5030 - val_loss: 3.2799 - val_accuracy: 0.5120\n",
      "Epoch 2/50\n",
      "625/625 [==============================] - 85s 136ms/step - loss: 3.2387 - accuracy: 0.5111 - val_loss: 3.2330 - val_accuracy: 0.5120\n",
      "Epoch 3/50\n",
      "625/625 [==============================] - 85s 136ms/step - loss: 3.1970 - accuracy: 0.5112 - val_loss: 3.2139 - val_accuracy: 0.5120\n",
      "Epoch 4/50\n",
      "625/625 [==============================] - 84s 134ms/step - loss: 3.1769 - accuracy: 0.5112 - val_loss: 3.2088 - val_accuracy: 0.5120\n",
      "Epoch 5/50\n",
      "625/625 [==============================] - 85s 136ms/step - loss: 3.1648 - accuracy: 0.5113 - val_loss: 3.2054 - val_accuracy: 0.5120\n",
      "Epoch 6/50\n",
      "625/625 [==============================] - 85s 136ms/step - loss: 3.1572 - accuracy: 0.5112 - val_loss: 3.2042 - val_accuracy: 0.5120\n",
      "Epoch 7/50\n",
      "625/625 [==============================] - 85s 136ms/step - loss: 3.1517 - accuracy: 0.5112 - val_loss: 3.2008 - val_accuracy: 0.5121\n",
      "Epoch 8/50\n",
      "625/625 [==============================] - 85s 135ms/step - loss: 3.1475 - accuracy: 0.5112 - val_loss: 3.2025 - val_accuracy: 0.5120\n",
      "Epoch 9/50\n",
      "625/625 [==============================] - 85s 136ms/step - loss: 3.1440 - accuracy: 0.5113 - val_loss: 3.2008 - val_accuracy: 0.5120\n",
      "Epoch 10/50\n",
      "625/625 [==============================] - 85s 136ms/step - loss: 3.1415 - accuracy: 0.5113 - val_loss: 3.2012 - val_accuracy: 0.5120\n",
      "Epoch 11/50\n",
      "625/625 [==============================] - 85s 136ms/step - loss: 3.1734 - accuracy: 0.5098 - val_loss: 3.8431 - val_accuracy: 0.5072\n",
      "Epoch 12/50\n",
      "625/625 [==============================] - 85s 136ms/step - loss: 3.3186 - accuracy: 0.5058 - val_loss: 3.2529 - val_accuracy: 0.5123\n",
      "Epoch 13/50\n",
      "625/625 [==============================] - 85s 136ms/step - loss: 3.1007 - accuracy: 0.5224 - val_loss: 3.0933 - val_accuracy: 0.5279\n",
      "Epoch 14/50\n",
      "625/625 [==============================] - 85s 136ms/step - loss: 2.9965 - accuracy: 0.5294 - val_loss: 3.0511 - val_accuracy: 0.5290\n",
      "Epoch 15/50\n",
      "625/625 [==============================] - 85s 136ms/step - loss: 2.8925 - accuracy: 0.5380 - val_loss: 2.8756 - val_accuracy: 0.5522\n",
      "Epoch 16/50\n",
      "625/625 [==============================] - 85s 136ms/step - loss: 2.7083 - accuracy: 0.5623 - val_loss: 2.7278 - val_accuracy: 0.5715\n",
      "Epoch 17/50\n",
      "625/625 [==============================] - 85s 137ms/step - loss: 2.4838 - accuracy: 0.5887 - val_loss: 2.5367 - val_accuracy: 0.5988\n",
      "Epoch 18/50\n",
      "625/625 [==============================] - 85s 137ms/step - loss: 2.2920 - accuracy: 0.6090 - val_loss: 2.4268 - val_accuracy: 0.6095\n",
      "Epoch 19/50\n",
      "625/625 [==============================] - 85s 137ms/step - loss: 2.1499 - accuracy: 0.6218 - val_loss: 2.3458 - val_accuracy: 0.6204\n",
      "Epoch 20/50\n",
      "625/625 [==============================] - 85s 136ms/step - loss: 2.0218 - accuracy: 0.6345 - val_loss: 2.2721 - val_accuracy: 0.6288\n",
      "Epoch 21/50\n",
      "625/625 [==============================] - 86s 137ms/step - loss: 1.9599 - accuracy: 0.6428 - val_loss: 2.2359 - val_accuracy: 0.6352\n",
      "Epoch 22/50\n",
      "625/625 [==============================] - 85s 136ms/step - loss: 1.8005 - accuracy: 0.6638 - val_loss: 2.0412 - val_accuracy: 0.6592\n",
      "Epoch 23/50\n",
      "625/625 [==============================] - 85s 136ms/step - loss: 1.5938 - accuracy: 0.6871 - val_loss: 1.9475 - val_accuracy: 0.6704\n",
      "Epoch 24/50\n",
      "625/625 [==============================] - 85s 136ms/step - loss: 1.4420 - accuracy: 0.7050 - val_loss: 1.8727 - val_accuracy: 0.6806\n",
      "Epoch 25/50\n",
      "625/625 [==============================] - 85s 136ms/step - loss: 1.3088 - accuracy: 0.7222 - val_loss: 1.8093 - val_accuracy: 0.6887\n",
      "Epoch 26/50\n",
      "625/625 [==============================] - 85s 136ms/step - loss: 1.1882 - accuracy: 0.7403 - val_loss: 1.7683 - val_accuracy: 0.6951\n",
      "Epoch 27/50\n",
      "625/625 [==============================] - 85s 136ms/step - loss: 1.0749 - accuracy: 0.7600 - val_loss: 1.7213 - val_accuracy: 0.7033\n",
      "Epoch 28/50\n",
      "625/625 [==============================] - 85s 137ms/step - loss: 0.9687 - accuracy: 0.7786 - val_loss: 1.6880 - val_accuracy: 0.7094\n",
      "Epoch 29/50\n",
      "625/625 [==============================] - 85s 137ms/step - loss: 0.8733 - accuracy: 0.7980 - val_loss: 1.6506 - val_accuracy: 0.7168\n",
      "Epoch 30/50\n",
      "625/625 [==============================] - 86s 137ms/step - loss: 0.7847 - accuracy: 0.8162 - val_loss: 1.6239 - val_accuracy: 0.7203\n",
      "Epoch 31/50\n",
      "625/625 [==============================] - 87s 138ms/step - loss: 0.7035 - accuracy: 0.8336 - val_loss: 1.6096 - val_accuracy: 0.7249\n",
      "Epoch 32/50\n",
      "625/625 [==============================] - 87s 139ms/step - loss: 0.6301 - accuracy: 0.8490 - val_loss: 1.5883 - val_accuracy: 0.7311\n",
      "Epoch 33/50\n",
      "625/625 [==============================] - 87s 139ms/step - loss: 0.5661 - accuracy: 0.8634 - val_loss: 1.5798 - val_accuracy: 0.7319\n",
      "Epoch 34/50\n",
      "625/625 [==============================] - 87s 139ms/step - loss: 0.5092 - accuracy: 0.8761 - val_loss: 1.5690 - val_accuracy: 0.7372\n",
      "Epoch 35/50\n",
      "625/625 [==============================] - 87s 139ms/step - loss: 0.4570 - accuracy: 0.8872 - val_loss: 1.5612 - val_accuracy: 0.7405\n",
      "Epoch 36/50\n",
      "625/625 [==============================] - 86s 138ms/step - loss: 0.4124 - accuracy: 0.8974 - val_loss: 1.5635 - val_accuracy: 0.7433\n",
      "Epoch 37/50\n",
      "625/625 [==============================] - 87s 139ms/step - loss: 0.3721 - accuracy: 0.9061 - val_loss: 1.5642 - val_accuracy: 0.7453\n",
      "Epoch 38/50\n",
      "625/625 [==============================] - 87s 140ms/step - loss: 0.3375 - accuracy: 0.9138 - val_loss: 1.5654 - val_accuracy: 0.7464\n",
      "Epoch 39/50\n",
      "625/625 [==============================] - 87s 139ms/step - loss: 0.3063 - accuracy: 0.9210 - val_loss: 1.5751 - val_accuracy: 0.7475\n",
      "Epoch 40/50\n",
      "625/625 [==============================] - 87s 139ms/step - loss: 0.2807 - accuracy: 0.9266 - val_loss: 1.5803 - val_accuracy: 0.7488\n",
      "Epoch 41/50\n",
      "625/625 [==============================] - 87s 139ms/step - loss: 0.2571 - accuracy: 0.9314 - val_loss: 1.5844 - val_accuracy: 0.7501\n",
      "Epoch 42/50\n",
      "625/625 [==============================] - 87s 140ms/step - loss: 0.2357 - accuracy: 0.9367 - val_loss: 1.6034 - val_accuracy: 0.7493\n",
      "Epoch 43/50\n",
      "625/625 [==============================] - 87s 140ms/step - loss: 0.2169 - accuracy: 0.9406 - val_loss: 1.5988 - val_accuracy: 0.7514\n",
      "Epoch 44/50\n",
      "625/625 [==============================] - 87s 139ms/step - loss: 0.2015 - accuracy: 0.9436 - val_loss: 1.6082 - val_accuracy: 0.7506\n",
      "Epoch 45/50\n",
      "625/625 [==============================] - 87s 139ms/step - loss: 0.1879 - accuracy: 0.9469 - val_loss: 1.6313 - val_accuracy: 0.7490\n",
      "Epoch 46/50\n",
      "625/625 [==============================] - 88s 140ms/step - loss: 0.1760 - accuracy: 0.9491 - val_loss: 1.6297 - val_accuracy: 0.7518\n",
      "Epoch 47/50\n",
      "625/625 [==============================] - 87s 140ms/step - loss: 0.1659 - accuracy: 0.9510 - val_loss: 1.6477 - val_accuracy: 0.7523\n",
      "Epoch 48/50\n",
      "625/625 [==============================] - 88s 141ms/step - loss: 0.1551 - accuracy: 0.9532 - val_loss: 1.6563 - val_accuracy: 0.7517\n",
      "Epoch 49/50\n",
      "625/625 [==============================] - 89s 142ms/step - loss: 0.1486 - accuracy: 0.9543 - val_loss: 1.6721 - val_accuracy: 0.7501\n",
      "Epoch 50/50\n",
      "625/625 [==============================] - 88s 140ms/step - loss: 0.1416 - accuracy: 0.9558 - val_loss: 1.6760 - val_accuracy: 0.7522\n"
     ]
    },
    {
     "data": {
      "text/plain": [
       "<tensorflow.python.keras.callbacks.History at 0x1f9a18f0c70>"
      ]
     },
     "execution_count": 34,
     "metadata": {},
     "output_type": "execute_result"
    }
   ],
   "source": [
    "# Fit the model \n",
    "# Store the history for evaluation purposes\n",
    "model.fit(X_train, y_train, epochs=50, batch_size=64, verbose=1, validation_data=(X_test, y_test))"
   ]
  },
  {
   "cell_type": "code",
   "execution_count": 36,
   "id": "linear-february",
   "metadata": {},
   "outputs": [],
   "source": [
    "# Store the model history for plotting purposes\n",
    "histories = model.history.history"
   ]
  },
  {
   "cell_type": "markdown",
   "id": "minor-astrology",
   "metadata": {},
   "source": [
    "#### Evaluating the Model"
   ]
  },
  {
   "cell_type": "markdown",
   "id": "chinese-greeting",
   "metadata": {},
   "source": [
    "Next, I will visualize the training and testing accuracies and losses."
   ]
  },
  {
   "cell_type": "code",
   "execution_count": 37,
   "id": "regular-exclusion",
   "metadata": {},
   "outputs": [],
   "source": [
    "def plot_training(histories):\n",
    "    \"\"\"\n",
    "    Plot the accuracies and the categorical cross-entropy for training and testing, per epoch. \n",
    "    \"\"\"\n",
    "    # Convert to data frame for plotting purposes\n",
    "    losses = pd.DataFrame(histories)\n",
    "    fig = plt.figure(figsize=(15,5))\n",
    "    # Plot the training and testing accuracy\n",
    "    ax1 = fig.add_subplot(121)\n",
    "    ax1.plot(losses['accuracy'], label='Training')\n",
    "    ax1.plot(losses['val_accuracy'], label='Testing')\n",
    "    ax1.set_title('Accuracy')\n",
    "    ax1.legend()\n",
    "    # Plot the training and testing categorical cross-entropy\n",
    "    ax2 = fig.add_subplot(122)\n",
    "    ax2.plot(losses['loss'], label='Training')\n",
    "    ax2.plot(losses['val_loss'], label='Testing')\n",
    "    ax2.set_title('Categorical Cross-Entropy')\n",
    "    ax2.legend()\n",
    "    plt.show()"
   ]
  },
  {
   "cell_type": "code",
   "execution_count": 38,
   "id": "opposite-referral",
   "metadata": {},
   "outputs": [
    {
     "data": {
      "image/png": "[encoded data removed]",
      "text/plain": [
       "<Figure size 1080x360 with 2 Axes>"
      ]
     },
     "metadata": {
      "needs_background": "light"
     },
     "output_type": "display_data"
    }
   ],
   "source": [
    "# Display the accuracy and loss over the 30 epochs\n",
    "plot_training(histories)"
   ]
  },
  {
   "cell_type": "markdown",
   "id": "frank-alexandria",
   "metadata": {},
   "source": [
    "I can see that the accuracy steadily increases from about the 10th epoch on both the training and testing datasets, before levelling off between the 30th and 40th epochs.  In terms of the loss function, the categorical cross-entropy, it decreases steadily on the training data, but on the test data it levels off around the 30th epoch and then starts to rise very slightly after about the 40th epoch.  This is a sign that the model is beginning to overfit at this point and will probably become worse if trained further."
   ]
  },
  {
   "cell_type": "code",
   "execution_count": 39,
   "id": "sudden-cycling",
   "metadata": {},
   "outputs": [
    {
     "name": "stdout",
     "output_type": "stream",
     "text": [
      "313/313 [==============================] - 8s 25ms/step - loss: 1.6760 - accuracy: 0.7522\n",
      "Categorical Cross-Entropy on Test Dataset: 1.676\n",
      "Accuracy on Test Dataset: 75.22 %\n"
     ]
    }
   ],
   "source": [
    "# Evaluate the model on the test dataset\n",
    "cce, acc = model.evaluate(X_test, y_test, verbose = 1)\n",
    "print('Categorical Cross-Entropy on Test Dataset: {:.3f}'.format(cce))\n",
    "print('Accuracy on Test Dataset: {:.2f} %'.format(acc*100))"
   ]
  },
  {
   "cell_type": "markdown",
   "id": "orange-possibility",
   "metadata": {},
   "source": [
    "The model is performing pretty well on the heldout test dataset.  Next, I will check predictions on some of the training and testing data."
   ]
  },
  {
   "cell_type": "markdown",
   "id": "human-department",
   "metadata": {},
   "source": [
    "#### Examining the Predictions"
   ]
  },
  {
   "cell_type": "markdown",
   "id": "exclusive-triumph",
   "metadata": {},
   "source": [
    "To see how the model is performing, I will need to use the tokenizers to convert the encoded integers back into the words.  The tokenizers' word indexes are dictionaries, where each unique word is represented by an integer."
   ]
  },
  {
   "cell_type": "code",
   "execution_count": 35,
   "id": "communist-present",
   "metadata": {},
   "outputs": [],
   "source": [
    "def int_to_word(integer, tokenizer):\n",
    "    for word, index in tokenizer.word_index.items():\n",
    "        if index == integer:\n",
    "            return word\n",
    "    return None"
   ]
  },
  {
   "cell_type": "code",
   "execution_count": 36,
   "id": "continuing-liabilities",
   "metadata": {},
   "outputs": [
    {
     "data": {
      "text/plain": [
       "array([   8,   15,   16,  322, 4957,    0,    0,    0,    0,    0,    0,\n",
       "          0,    0,    0])"
      ]
     },
     "execution_count": 36,
     "metadata": {},
     "output_type": "execute_result"
    }
   ],
   "source": [
    "# Look at X_train[0]\n",
    "X_train[0]"
   ]
  },
  {
   "cell_type": "code",
   "execution_count": 37,
   "id": "ideal-vulnerability",
   "metadata": {},
   "outputs": [
    {
     "data": {
      "text/plain": [
       "'il a un nom commun'"
      ]
     },
     "execution_count": 37,
     "metadata": {},
     "output_type": "execute_result"
    }
   ],
   "source": [
    "# Convert the integers found in the encoded input back into words\n",
    "words = [int_to_word(x, fra_tokenizer) for x in X_train[0]]\n",
    "# Stop when None appears\n",
    "words = [word for word in words if word != None]\n",
    "# Join into a sentence\n",
    "' '.join(words)"
   ]
  },
  {
   "cell_type": "markdown",
   "id": "accessible-sapphire",
   "metadata": {},
   "source": [
    "Looking at the translation targets, the outputs were one-hot encoded with a vocabulary length of 5986, and each sequence was padded to a length of 7.  This means that the y-data will be 7 vectors, each of length 5986.  In each of these vectors there will be at most one 1, and the rest of the values will be 0 (there can be all 0s if the sequence does not contain the maximum 7 words).  So, by finding the index of this 1 we know the integer value for the word that exists in that place in the sequence, and with this we can extract the actual word from the tokenizer.\n",
    "\n",
    "When it comes to making new predictions, probabilities will be generated for each of the 5986 possible words, and so finding the highest value within each of the 7 vectors will result in getting the word that is predicted to be most probable."
   ]
  },
  {
   "cell_type": "code",
   "execution_count": 38,
   "id": "falling-rwanda",
   "metadata": {},
   "outputs": [],
   "source": [
    "# Looking at y_train[0]\n",
    "# For each of the 7 vectors, get the index of the highest value \n",
    "# This is the word that is predicted with the highest probability\n",
    "integers = [np.argmax(vector) for vector in y_train[0]]\n",
    "target = [] \n",
    "# For each of these, get the corresponding English word\n",
    "for i in integers:\n",
    "    word = int_to_word(i, eng_tokenizer)\n",
    "    # Stop when reaching None\n",
    "    if word is None:\n",
    "        break\n",
    "    target.append(word)"
   ]
  },
  {
   "cell_type": "code",
   "execution_count": 41,
   "id": "supposed-queue",
   "metadata": {},
   "outputs": [
    {
     "data": {
      "text/plain": [
       "'he has a common name'"
      ]
     },
     "execution_count": 41,
     "metadata": {},
     "output_type": "execute_result"
    }
   ],
   "source": [
    "# Join into a sentence\n",
    "' '.join(target)"
   ]
  },
  {
   "cell_type": "code",
   "execution_count": 42,
   "id": "approved-february",
   "metadata": {},
   "outputs": [
    {
     "data": {
      "text/plain": [
       "array([[1.5799556e-09, 4.0273294e-06, 4.3033289e-11, ..., 1.2306751e-16,\n",
       "        2.4679802e-12, 3.4404245e-13],\n",
       "       [2.8297972e-11, 4.1107080e-11, 9.5728011e-16, ..., 3.6521611e-14,\n",
       "        6.1111407e-12, 1.4697639e-14],\n",
       "       [2.1003605e-07, 8.2900747e-10, 6.5587667e-13, ..., 4.3958184e-14,\n",
       "        9.1868223e-13, 4.3484318e-12],\n",
       "       ...,\n",
       "       [3.6281035e-03, 1.0436039e-10, 3.5773648e-11, ..., 2.4086630e-13,\n",
       "        2.8531240e-08, 2.4508446e-09],\n",
       "       [9.4950610e-01, 6.5370501e-13, 2.1242491e-10, ..., 1.5350155e-16,\n",
       "        1.4403184e-11, 2.1130122e-13],\n",
       "       [9.9413896e-01, 5.3204362e-14, 1.9782613e-12, ..., 1.1604215e-18,\n",
       "        8.9170961e-13, 8.9894599e-15]], dtype=float32)"
      ]
     },
     "execution_count": 42,
     "metadata": {},
     "output_type": "execute_result"
    }
   ],
   "source": [
    "# Making predictions and getting the proper shape\n",
    "model.predict(X_train[0].reshape((1, X_train[0].shape[0])))[0]"
   ]
  },
  {
   "cell_type": "markdown",
   "id": "elect-cameroon",
   "metadata": {},
   "source": [
    "After reshaping, the predictions are of the shape (7, 5986).  As explained above, the index of the highest value in each of the rows will correspond with the index of the predicted word in the tokenizer vocabulary. "
   ]
  },
  {
   "cell_type": "code",
   "execution_count": 43,
   "id": "static-supplier",
   "metadata": {},
   "outputs": [],
   "source": [
    "def get_translation(text):\n",
    "    # Reshape text vector \n",
    "    text = text.reshape((1, text.shape[0]))\n",
    "    # Make prediction\n",
    "    prediction = model.predict(text, verbose=0)[0]\n",
    "    # Get the integer indexes of the predicted words\n",
    "    integers = [np.argmax(vector) for vector in prediction]\n",
    "    # Convert this into a text sequence\n",
    "    target = []\n",
    "    for i in integers:\n",
    "        word = int_to_word(i, eng_tokenizer)\n",
    "        # Stop when the sequence hits the None padding\n",
    "        if word is None:\n",
    "            break\n",
    "        target.append(word)\n",
    "    return ' '.join(target)"
   ]
  },
  {
   "cell_type": "markdown",
   "id": "advised-frederick",
   "metadata": {},
   "source": [
    "I will write two functions here using the above code - one to take a row of the dataset and return the French sentence, and the second to take a row of the data and return the actual English translation."
   ]
  },
  {
   "cell_type": "code",
   "execution_count": 44,
   "id": "corresponding-general",
   "metadata": {},
   "outputs": [],
   "source": [
    "def get_french(row):\n",
    "    # Get the words from the tokenizer\n",
    "    words = [int_to_word(x, fra_tokenizer) for x in row]\n",
    "    # Stop when None appears\n",
    "    words = [word for word in words if word != None]\n",
    "    return ' '.join(words)"
   ]
  },
  {
   "cell_type": "code",
   "execution_count": 45,
   "id": "german-departure",
   "metadata": {},
   "outputs": [],
   "source": [
    "def get_english(row):\n",
    "    # Get word indexes\n",
    "    integers = [np.argmax(vector) for vector in row]\n",
    "    target = [] \n",
    "    for i in integers:\n",
    "        # Retrieve words from the tokenizer\n",
    "        word = int_to_word(i, eng_tokenizer)\n",
    "        # Stop when None is appears\n",
    "        if word is None:\n",
    "            break\n",
    "        target.append(word)\n",
    "    return ' '.join(target)"
   ]
  },
  {
   "cell_type": "markdown",
   "id": "desperate-oliver",
   "metadata": {},
   "source": [
    "#### Examining Some of the Training Data"
   ]
  },
  {
   "cell_type": "markdown",
   "id": "studied-sessions",
   "metadata": {},
   "source": [
    "I will get 10 random rows of the training data and compare the predicted translations to the actual translations."
   ]
  },
  {
   "cell_type": "code",
   "execution_count": 46,
   "id": "above-repository",
   "metadata": {},
   "outputs": [
    {
     "data": {
      "text/plain": [
       "[22107, 18698, 15303, 26214, 19771, 1947, 32859, 36168, 31964, 32038]"
      ]
     },
     "execution_count": 46,
     "metadata": {},
     "output_type": "execute_result"
    }
   ],
   "source": [
    "# Get the indexes of the training input \n",
    "X_train_index = range(len(X_train))\n",
    "# Select 10 at random\n",
    "index = list(random.sample(X_train_index, 10))\n",
    "index"
   ]
  },
  {
   "cell_type": "code",
   "execution_count": 50,
   "id": "posted-klein",
   "metadata": {},
   "outputs": [
    {
     "name": "stdout",
     "output_type": "stream",
     "text": [
      "Original French Sequence:  cest tout ce qua dit tom\n",
      "Actual English Translation:  thats all tom said\n",
      "Predicted English Translation:  thats all tom said\n",
      ".......................\n",
      "Original French Sequence:  jaime les fleurs des champs\n",
      "Actual English Translation:  i like wild flowers\n",
      "Predicted English Translation:  i like wild flowers\n",
      ".......................\n",
      "Original French Sequence:  cest terrifiant\n",
      "Actual English Translation:  its terrifying\n",
      "Predicted English Translation:  thats terrifying\n",
      ".......................\n",
      "Original French Sequence:  je veux les faits\n",
      "Actual English Translation:  i want the facts\n",
      "Predicted English Translation:  i want the facts\n",
      ".......................\n",
      "Original French Sequence:  cest tout ce que je fais ici\n",
      "Actual English Translation:  thats all i do here\n",
      "Predicted English Translation:  thats all i here here\n",
      ".......................\n",
      "Original French Sequence:  jespère seulement que tom va bien\n",
      "Actual English Translation:  i just hope tom is ok\n",
      "Predicted English Translation:  i hope hope tom is ok\n",
      ".......................\n",
      "Original French Sequence:  cest le chemin qui est direct\n",
      "Actual English Translation:  the path is direct\n",
      "Predicted English Translation:  the path is direct\n",
      ".......................\n",
      "Original French Sequence:  arrêtez de me harceler\n",
      "Actual English Translation:  stop harassing me\n",
      "Predicted English Translation:  stop harassing me\n",
      ".......................\n",
      "Original French Sequence:  je laime beaucoup\n",
      "Actual English Translation:  i like her very much\n",
      "Predicted English Translation:  i like her very much\n",
      ".......................\n",
      "Original French Sequence:  tom est un beau mec\n",
      "Actual English Translation:  tom is a handsome guy\n",
      "Predicted English Translation:  tom is a handsome guy\n",
      ".......................\n"
     ]
    }
   ],
   "source": [
    "# Compare the predictions to the actual translations\n",
    "for i in index:\n",
    "    print('Original French Sequence: ', get_french(X_train[i]))\n",
    "    print('Actual English Translation: ', get_english(y_train[i]))\n",
    "    print('Predicted English Translation: ', get_translation(X_train[i]))\n",
    "    print('.......................')"
   ]
  },
  {
   "cell_type": "markdown",
   "id": "unsigned-harmony",
   "metadata": {},
   "source": [
    "Overall, on this random selection of the training data the predictions are extremely accurate and most are exactly correct.  There are a couple small variations (the word that's, in place of it's), and a situation where a word is incorrectly repeated (thats all i here here), but the model is performing very well on these.  Next, I will see how it performed on a random selection of the testing data."
   ]
  },
  {
   "cell_type": "markdown",
   "id": "supported-intensity",
   "metadata": {},
   "source": [
    "#### Examining Some of the Testing Data"
   ]
  },
  {
   "cell_type": "code",
   "execution_count": 53,
   "id": "serial-reading",
   "metadata": {},
   "outputs": [
    {
     "data": {
      "text/plain": [
       "[4774, 2625, 4009, 3353, 6631, 815, 3398, 567, 9637, 501]"
      ]
     },
     "execution_count": 53,
     "metadata": {},
     "output_type": "execute_result"
    }
   ],
   "source": [
    "X_test_index = range(len(X_test))\n",
    "index2 = list(random.sample(X_test_index, 10))\n",
    "index2"
   ]
  },
  {
   "cell_type": "code",
   "execution_count": 54,
   "id": "fatal-newfoundland",
   "metadata": {},
   "outputs": [
    {
     "name": "stdout",
     "output_type": "stream",
     "text": [
      "Original French Sequence:  tu as parfaitement raison\n",
      "Actual English Translation:  youre totally right\n",
      "Predicted English Translation:  youre quite right\n",
      ".......................\n",
      "Original French Sequence:  je nai pas dit ça\n",
      "Actual English Translation:  i didnt say that\n",
      "Predicted English Translation:  i didnt say that\n",
      ".......................\n",
      "Original French Sequence:  le train est en avance\n",
      "Actual English Translation:  the train is early\n",
      "Predicted English Translation:  the trains early\n",
      ".......................\n",
      "Original French Sequence:  cétait moins une\n",
      "Actual English Translation:  it was really close\n",
      "Predicted English Translation:  that was close\n",
      ".......................\n",
      "Original French Sequence:  estce un cerf\n",
      "Actual English Translation:  is it a deer\n",
      "Predicted English Translation:  is that a deer\n",
      ".......................\n",
      "Original French Sequence:  jexpliquerai\n",
      "Actual English Translation:  ill explain\n",
      "Predicted English Translation:  ill love\n",
      ".......................\n",
      "Original French Sequence:  je vous verrai tous demain\n",
      "Actual English Translation:  see you all tomorrow\n",
      "Predicted English Translation:  see you you tomorrow\n",
      ".......................\n",
      "Original French Sequence:  jétais préoccupé\n",
      "Actual English Translation:  i was worried\n",
      "Predicted English Translation:  i was concerned\n",
      ".......................\n",
      "Original French Sequence:  faites ce que vous voulez\n",
      "Actual English Translation:  just do what you want\n",
      "Predicted English Translation:  do what you want\n",
      ".......................\n",
      "Original French Sequence:  jai renversé ma boisson\n",
      "Actual English Translation:  i spilled my drink\n",
      "Predicted English Translation:  i stole my brother\n",
      ".......................\n"
     ]
    }
   ],
   "source": [
    "for i in index2:\n",
    "    print('Original French Sequence: ', get_french(X_test[i]))\n",
    "    print('Actual English Translation: ', get_english(y_test[i]))\n",
    "    print('Predicted English Translation: ', get_translation(X_test[i]))\n",
    "    print('.......................')"
   ]
  },
  {
   "cell_type": "markdown",
   "id": "commercial-ensemble",
   "metadata": {},
   "source": [
    "In this random selection there is quite a ranage in the accuracy of the predictions.  Some are exactly correct, some are mostly correct with some variation that still makes sense (for example, the word \"concerned\" being predicted instead of \"worried\"), and some are very, very wrong.  "
   ]
  },
  {
   "cell_type": "markdown",
   "id": "current-leisure",
   "metadata": {},
   "source": [
    "Now I will show how the model and tokenizers can be saved and then loaded to make predictions on brand new French text."
   ]
  },
  {
   "cell_type": "markdown",
   "id": "continued-produce",
   "metadata": {},
   "source": [
    "#### Saving the Model and Tokenizers"
   ]
  },
  {
   "cell_type": "code",
   "execution_count": 47,
   "id": "charming-equipment",
   "metadata": {},
   "outputs": [],
   "source": [
    "# Save the model\n",
    "model.save('fra_to_eng.h5')"
   ]
  },
  {
   "cell_type": "code",
   "execution_count": 48,
   "id": "brief-trainer",
   "metadata": {},
   "outputs": [],
   "source": [
    "# Save the tokenizers\n",
    "pickle.dump(fra_tokenizer, open('fra_tokenizer.pkl', 'wb'))\n",
    "pickle.dump(eng_tokenizer, open('eng_tokenizer.pkl', 'wb'))"
   ]
  },
  {
   "cell_type": "markdown",
   "id": "moderate-semester",
   "metadata": {},
   "source": [
    "#### Translating New French Sentences"
   ]
  },
  {
   "cell_type": "markdown",
   "id": "accessory-handy",
   "metadata": {},
   "source": [
    "To use my model to translate new text, I will take French input, pre-process it following what I did with the data the model was trained on, and then follow the same steps as before - tokenizing, padding, and then predicting. "
   ]
  },
  {
   "cell_type": "markdown",
   "id": "cloudy-impact",
   "metadata": {},
   "source": [
    "Here I test a very simple input, \"Je suis heureux\", or, \"I am happy\"."
   ]
  },
  {
   "cell_type": "code",
   "execution_count": 49,
   "id": "perceived-shelf",
   "metadata": {},
   "outputs": [],
   "source": [
    "fra_input = 'Je suis heureux'"
   ]
  },
  {
   "cell_type": "code",
   "execution_count": 50,
   "id": "broke-fiber",
   "metadata": {},
   "outputs": [
    {
     "data": {
      "text/plain": [
       "['je', 'suis', 'heureux']"
      ]
     },
     "execution_count": 50,
     "metadata": {},
     "output_type": "execute_result"
    }
   ],
   "source": [
    "# Clean the text using the same function I used on the dataset\n",
    "clean_fra_input = clean_text(fra_input)\n",
    "clean_fra_input"
   ]
  },
  {
   "cell_type": "code",
   "execution_count": 51,
   "id": "missing-microphone",
   "metadata": {},
   "outputs": [],
   "source": [
    "# Load the tokenizers\n",
    "fra_tokenizer = pickle.load(open('fra_tokenizer.pkl', 'rb'))\n",
    "eng_tokenizer = pickle.load(open('eng_tokenizer.pkl', 'rb'))"
   ]
  },
  {
   "cell_type": "markdown",
   "id": "parallel-charlotte",
   "metadata": {},
   "source": [
    "As before, this input must be tokenized and padded to match the maximum length of the input (which was 14 words)."
   ]
  },
  {
   "cell_type": "code",
   "execution_count": 57,
   "id": "described-colony",
   "metadata": {},
   "outputs": [
    {
     "data": {
      "text/plain": [
       "[[1], [12], [159]]"
      ]
     },
     "execution_count": 57,
     "metadata": {},
     "output_type": "execute_result"
    }
   ],
   "source": [
    "# Use the French tokenizer to encode the input text \n",
    "encoded_input = fra_tokenizer.texts_to_sequences(clean_fra_input)\n",
    "encoded_input"
   ]
  },
  {
   "cell_type": "markdown",
   "id": "pleasant-fifty",
   "metadata": {},
   "source": [
    "I want to convert this into a Numpy array, and pad its length to match the maximum French sequence length of 14."
   ]
  },
  {
   "cell_type": "code",
   "execution_count": 58,
   "id": "varying-commander",
   "metadata": {},
   "outputs": [
    {
     "data": {
      "text/plain": [
       "[1, 12, 159]"
      ]
     },
     "execution_count": 58,
     "metadata": {},
     "output_type": "execute_result"
    }
   ],
   "source": [
    "# Create a list of the integers\n",
    "encoded_input = [i[0] for i in encoded_input]\n",
    "encoded_input"
   ]
  },
  {
   "cell_type": "code",
   "execution_count": 59,
   "id": "marine-simon",
   "metadata": {},
   "outputs": [
    {
     "data": {
      "text/plain": [
       "array([  1,  12, 159,   0,   0,   0,   0,   0,   0,   0,   0,   0,   0,\n",
       "         0])"
      ]
     },
     "execution_count": 59,
     "metadata": {},
     "output_type": "execute_result"
    }
   ],
   "source": [
    "# Pad with 0's until it matches the proper length of 14 tokens\n",
    "while len(encoded_input) < 14:\n",
    "    encoded_input.append(0)\n",
    "# Convert to a Numpy array\n",
    "encoded_input = np.array(encoded_input)\n",
    "encoded_input"
   ]
  },
  {
   "cell_type": "markdown",
   "id": "norwegian-brighton",
   "metadata": {},
   "source": [
    "This now matches the training and testing data and is ready for predictions."
   ]
  },
  {
   "cell_type": "code",
   "execution_count": 60,
   "id": "coordinated-rouge",
   "metadata": {},
   "outputs": [],
   "source": [
    "# Load the model\n",
    "model = load_model('fra_to_eng.h5')"
   ]
  },
  {
   "cell_type": "code",
   "execution_count": 61,
   "id": "sealed-premises",
   "metadata": {},
   "outputs": [
    {
     "data": {
      "text/plain": [
       "'im happy'"
      ]
     },
     "execution_count": 61,
     "metadata": {},
     "output_type": "execute_result"
    }
   ],
   "source": [
    "# Get the translation\n",
    "translation = get_translation(encoded_input)\n",
    "translation"
   ]
  },
  {
   "cell_type": "markdown",
   "id": "bronze-scanning",
   "metadata": {},
   "source": [
    "It works on this very very short and common phrase.  I will combined these steps now into a translation function to see how the model performs on various sorts of inputs.  This will be done in a standalone notebook.  "
   ]
  },
  {
   "cell_type": "markdown",
   "id": "acting-arthur",
   "metadata": {},
   "source": [
    "### *** Please see \"french_to_english.ipynb' that follows for the completition of my assignment submission."
   ]
  },
  {
   "cell_type": "markdown",
   "id": "proprietary-taylor",
   "metadata": {},
   "source": [
    "#### Conclusions"
   ]
  },
  {
   "cell_type": "markdown",
   "id": "ranging-kitchen",
   "metadata": {},
   "source": [
    "My model performs well on the training data and input sequences that are short and common phrases (see the notebook that follows for further predictions on new text).  There is a lot of room for improvement here.  An attention mechanism is something that can be added to this model to make it better.  I can increase the depths of the encoder and decoder.  Also, I can make use of the concept of the beam search to improve the accuracy of the decoder. \n",
    "\n",
    "\n",
    "Furthermore, by limiting the dataset as I did at the outset of this notebook I am only training my model on short phrases.  This can be seen by the fact that the longest English phrase is only seven words long.  I can improve the model by increasing both the length and diversity of the training data sequences.  I notice that there are words, such as my name, Michael, for example, that do not exist in the training dataset.  Although this is a proper name, I would be interested to explore the tokenizer's vocabulary list further and see if there are further limitations in it.\n",
    "\n",
    "Overall, the model performs great on short and common phrases."
   ]
  },
  {
   "cell_type": "markdown",
   "id": "inclusive-disorder",
   "metadata": {},
   "source": [
    "#### References"
   ]
  },
  {
   "cell_type": "markdown",
   "id": "written-variable",
   "metadata": {},
   "source": [
    "Brownlee J.  How to Develop a Neural Machine Translation System from Scratch.  Machine Learning Mastery.  https://machinelearningmastery.com/develop-neural-machine-translation-system-keras/.  Published January 10, 2018.  Accessed March 23, 2021.\n",
    "\n",
    "Brownlee J.  How to Configure an Encoder-Decoder Model for Neural Machine Translation.  Machine Learning Mastery.  https://machinelearningmastery.com/configure-encoder-decoder-model-neural-machine-translation/.  Published January 3, 2018.  Accessed March 23, 2021."
   ]
  },
  {
   "cell_type": "code",
   "execution_count": null,
   "id": "distinguished-stupid",
   "metadata": {},
   "outputs": [],
   "source": []
  }
 ],
 "metadata": {
  "kernelspec": {
   "display_name": "Python [conda env:py3-TF2.0]",
   "language": "python",
   "name": "conda-env-py3-TF2.0-py"
  },
  "language_info": {
   "codemirror_mode": {
    "name": "ipython",
    "version": 3
   },
   "file_extension": ".py",
   "mimetype": "text/x-python",
   "name": "python",
   "nbconvert_exporter": "python",
   "pygments_lexer": "ipython3",
   "version": "3.8.5"
  }
 },
 "nbformat": 4,
 "nbformat_minor": 5
}
